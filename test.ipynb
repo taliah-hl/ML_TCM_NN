{
 "cells": [
  {
   "cell_type": "code",
   "execution_count": 1,
   "metadata": {},
   "outputs": [
    {
     "name": "stdout",
     "output_type": "stream",
     "text": [
      "in ReadData\n",
      "type of data: <class 'pandas.core.frame.DataFrame'>\n",
      "Shape of data = (797 rows, 215 cols).\n",
      "SplitXY:\n",
      "Shape of X = (796 rows, 111 cols). First 10 data of X:\n",
      "    肺癌  胰臟癌  肝癌  腺癌  攝護腺癌  骨癌  淋巴癌  胃癌  腦瘤  肝炎\n",
      "1    0    0   0   0     0   0    0   0   0   0\n",
      "2    0    0   0   0     0   0    0   0   0   0\n",
      "3    0    0   0   0     0   0    0   0   0   0\n",
      "4    0    0   0   0     0   0    0   0   0   0\n",
      "5    0    0   0   0     0   0    0   0   0   0\n",
      "6    0    0   0   0     0   0    0   0   0   0\n",
      "7    0    0   0   0     0   0    0   0   0   0\n",
      "8    0    0   0   0     0   0    0   0   0   0\n",
      "9    0    0   0   0     0   0    0   0   0   0\n",
      "10   0    0   0   0     0   0    0   0   0   0\n",
      "Shape of y = (796 rows, 102 cols). First 10 data of y:\n",
      "    麻黃  桂枝  荊芥  防風  細辛  白芷  生薑  辛夷  葛根  升麻\n",
      "1    0   1   0   0   1   1   0   0   0   0\n",
      "2    0   1   0   0   0   0   1   0   0   0\n",
      "3    0   0   0   0   0   0   0   0   0   0\n",
      "4    0   1   0   0   0   0   1   1   0   0\n",
      "5    0   1   0   0   0   0   0   0   0   0\n",
      "6    0   0   0   0   0   0   0   0   0   0\n",
      "7    0   1   0   0   0   0   0   0   0   0\n",
      "8    0   1   0   0   0   0   0   0   0   0\n",
      "9    0   1   0   0   1   0   0   0   0   0\n",
      "10   0   1   0   0   1   0   0   0   0   0\n",
      "=======================\n",
      "\n",
      "in load_data_for_1_med_with_debug of load_data.py, random_seed= None\n",
      "after SplitXY, total number of 0, 1 in y:\n",
      "no. of 1: 8874\n",
      "no. of 0: 72318\n",
      "DeleteMedicine: shape of y is (796, 102).\n",
      "in SplitBothXy_Df of load_data, len of val_idx 159\n",
      "save med num done\n",
      "train_X.shape:  (637, 111)\n",
      "train_y.shape:  (637, 102)\n",
      "\n",
      "debug no, of 0 and 1 in y after Split trina val\n",
      "no. of 1 in train_y: 6984\n",
      "no. of 0 in train_y: 57990\n",
      "no. of 1 in val_y: 1890\n",
      "no. of 0 in val_y: 14328\n"
     ]
    }
   ],
   "source": [
    "import numpy as np\n",
    "import pandas as pd\n",
    "import random\n",
    "import json\n",
    "import statistics\n",
    "from tabulate import tabulate\n",
    "\n",
    "# custom import \n",
    "from utility_file import my_utilities as myutil\n",
    "from utility_file import load_data\n",
    "\n",
    "\n",
    "del_med_under_thres = 0     # 於所有medical cases中出現次數少於此數的藥->整col 刪除\n",
    "                            # if set to 250 -> will leave 10 medicine\n",
    "\n",
    "total_med = 102\n",
    "only_train_1st_n = None\n",
    "\n",
    "(X_np, X_val_np, train_y, val_y, \n",
    "  num_col_x, num_1_valy, num_0_valy) = load_data.load_data_for_1_med_with_debug(del_med_thres=del_med_under_thres, n=only_train_1st_n)\n",
    "\n",
    "assert(isinstance(X_np, np.ndarray))\n",
    "assert(isinstance(X_val_np, np.ndarray))\n",
    "assert(isinstance(train_y, pd.DataFrame))\n",
    "assert(isinstance(val_y, pd.DataFrame))\n",
    "assert(isinstance(num_col_x, int))\n"
   ]
  }
 ],
 "metadata": {
  "kernelspec": {
   "display_name": "ml2",
   "language": "python",
   "name": "python3"
  },
  "language_info": {
   "codemirror_mode": {
    "name": "ipython",
    "version": 3
   },
   "file_extension": ".py",
   "mimetype": "text/x-python",
   "name": "python",
   "nbconvert_exporter": "python",
   "pygments_lexer": "ipython3",
   "version": "3.9.18"
  }
 },
 "nbformat": 4,
 "nbformat_minor": 2
}
