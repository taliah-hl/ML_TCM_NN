{
 "cells": [
  {
   "cell_type": "markdown",
   "metadata": {},
   "source": [
    "# NN Model for TCM Project (pseudo code)\n",
    "\n",
    "## Steps of CNN\n",
    "\n",
    "2. 文本處理\n",
    "\n",
    "    文本向量化：將文本數據轉換為數值表示形式，比如將中文文字轉換成詞向量或字符向量。\n",
    "    填充序列：確保所有文本序列的長度相同，如果需要，進行填充或截斷操作。\n",
    "\n",
    "3. 建立CNN模型\n",
    "\n",
    "    卷積層與池化層：設計卷積層和池化層來提取特徵並減少輸入的維度。\n",
    "    Flatten層與全連接層：將卷積池化後的特徵展平成向量，然後添加全連接層進行分類。\n",
    "\n",
    "4. 模型訓練與評估\n",
    "\n",
    "    編譯模型：選擇損失函數、優化器和評估指標。\n",
    "    訓練模型：使用已處理的數據訓練CNN模型，通常通過反向傳播算法來更新權重。\n",
    "    評估模型：使用測試集來評估模型的性能，看準確度或其他指標。\n",
    "\n",
    "5. 模型調整和優化\n",
    "\n",
    "    超參數調整：調整卷積層的數量、大小，池化層的選擇等，以提高模型性能。\n",
    "    防止過擬合：使用正則化方法，如dropout層，以防止模型在訓練集上表現好但在測試集上表現差。"
   ]
  },
  {
   "cell_type": "code",
   "execution_count": null,
   "metadata": {},
   "outputs": [],
   "source": [
    "import numpy as np\n",
    "from tensorflow.keras.models import Sequential\n",
    "from tensorflow.keras.layers import Conv2D, MaxPooling2D, Flatten, Dense"
   ]
  },
  {
   "cell_type": "code",
   "execution_count": null,
   "metadata": {},
   "outputs": [],
   "source": [
    "# 創建序列模型\n",
    "model = Sequential()\n",
    "\n",
    "# 添加卷積層和池化層\n",
    "model.add(Conv2D(\n",
    "    filters=32, \n",
    "    kernel_size=(3, 3), \n",
    "    activation='relu', \n",
    "    input_shape=(height, width, channels)))\n",
    "\n",
    "model.add(MaxPooling2D((2, 2)))\n",
    "\n",
    "# 添加更多卷積層和池化層（根據需要）\n",
    "model.add(Conv2D(64, (3, 3), activation='relu'))\n",
    "model.add(MaxPooling2D((2, 2)))\n",
    "\n",
    "#Drop掉一定比例的神經元來避免Overfit的狀況\n",
    "model.add(Dropout(0.25))\n",
    "\n",
    "# 將特徵展平成一維向量\n",
    "model.add(Flatten())\n",
    "\n",
    "# 添加全連接層\n",
    "model.add(Dense(128, activation='relu'))\n",
    "model.add(Dense(num_classes, activation='softmax'))  # num_classes是你的分類數量\n"
   ]
  },
  {
   "cell_type": "code",
   "execution_count": null,
   "metadata": {},
   "outputs": [],
   "source": [
    "# 訓練模型\n",
    "\n",
    "model.compile(optimizer='adam', loss='categorical_crossentropy', metrics=['accuracy'])\n",
    "\n",
    "# parameter to tune:\n",
    "# optimizer\n",
    "# Optimizer Selection\n",
    "# loss\n",
    "# Loss Function: The 'loss' argument defines the loss function used to compute the error between predicted and actual values\n",
    "# metrics \n",
    "# specifies the evaluation metrics used to monitor the model's performance\n"
   ]
  },
  {
   "cell_type": "code",
   "execution_count": null,
   "metadata": {},
   "outputs": [],
   "source": [
    "# 顯示模型摘要\n",
    "model.summary()\n",
    "train_history = model.fit(......)\n",
    "\n",
    "#plot graph\n",
    "show_train_history(.....)"
   ]
  }
 ],
 "metadata": {
  "language_info": {
   "name": "python"
  }
 },
 "nbformat": 4,
 "nbformat_minor": 2
}
