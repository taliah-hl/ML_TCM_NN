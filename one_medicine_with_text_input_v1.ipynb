{
 "cells": [
  {
   "cell_type": "markdown",
   "metadata": {},
   "source": [
    "# In the notebook, a model is trained for each medicine\n",
    "\n",
    "data source: ./simplified_data/simplified_data2.csv\n",
    "\n",
    "the last few blocks were commmented since I have no clue what they were for.\n",
    "\n",
    "\n"
   ]
  },
  {
   "cell_type": "markdown",
   "metadata": {},
   "source": [
    "## Setting:\n",
    "\n",
    "layer: 64-32-16-2"
   ]
  },
  {
   "cell_type": "markdown",
   "metadata": {},
   "source": []
  },
  {
   "cell_type": "markdown",
   "metadata": {},
   "source": [
    "# 0. Global Variables"
   ]
  },
  {
   "cell_type": "code",
   "execution_count": 6,
   "metadata": {},
   "outputs": [],
   "source": [
    "# Remove the entire column related to a specific medicine if its occurrence is below the defined threshold.\n",
    "# In the given dataset, setting this threshold to 250 would retain columns for only the top 10 most frequently used medicines.\n",
    "DeleteMedThreshold = 0\n",
    "\n",
    "# Determine the number of medicines to be trained as output\n",
    "# The total number of medicine is 102\n",
    "NumMedTrain =102\n",
    "\n",
    "# Decide whether to enhance accuracy by utilizing class weights\n",
    "UseClassWeight = False\n",
    "\n",
    "# Decide learning_rate\n",
    "LearningRate = 0.005\n",
    "\n",
    "# layer we are going to use: 64-32-16-2"
   ]
  },
  {
   "cell_type": "markdown",
   "metadata": {},
   "source": [
    "# 1. Import module\n"
   ]
  },
  {
   "cell_type": "code",
   "execution_count": 7,
   "metadata": {},
   "outputs": [],
   "source": [
    "\n",
    "# Importing necessary libraries\n",
    "import numpy as np\n",
    "import pandas as pd\n",
    "import statistics\n",
    "from tabulate import tabulate\n",
    "import matplotlib.pyplot as plt\n",
    "\n",
    "# Importing TensorFlow for deep learning\n",
    "import tensorflow\n",
    "from tensorflow import keras\n",
    "from keras.models import Sequential\n",
    "from keras.layers import Activation, Dense, Dropout\n",
    "from keras.callbacks import EarlyStopping, LambdaCallback\n",
    "from keras.optimizers import Adam\n",
    "from keras.metrics import categorical_crossentropy\n",
    "\n",
    "# Importing scikit-learn for data preprocessing and utilities\n",
    "from sklearn.utils import shuffle\n",
    "from sklearn.preprocessing import MinMaxScaler\n",
    "from sklearn.utils.class_weight import compute_sample_weight\n",
    "\n",
    "# Importing custom utility functions\n",
    "from utility_file import my_utilities as myutil\n",
    "from utility_file import load_data"
   ]
  },
  {
   "cell_type": "markdown",
   "metadata": {},
   "source": [
    "# 2. Read Data\n",
    "Load the data using the custom module \"load_data\""
   ]
  },
  {
   "cell_type": "code",
   "execution_count": 8,
   "metadata": {},
   "outputs": [
    {
     "name": "stdout",
     "output_type": "stream",
     "text": [
      "--------------------------------------------------------------------------------\n",
      "ReadData:\n",
      "Type of data: <class 'pandas.core.frame.DataFrame'>\n",
      "Shape of data = (797 rows, 227 cols).\n",
      "End of ReadData\n",
      "--------------------------------------------------------------------------------\n",
      "SplitXY:\n",
      "Shape of X = (796 rows, 120 cols).\n",
      "Shape of y = (796 rows, 3 cols).\n",
      "End of SplitXY\n",
      "--------------------------------------------------------------------------------\n",
      "In load_data_for_1_med_with_debug of load_data.py, random_seed= 3\n",
      "After SplitXY, total number of 0, 1 in y:\n",
      "Number of 0s: 1899\n",
      "Number of 1s: 489\n",
      "save med num done\n",
      "Train_X.shape:  (637, 120)\n",
      "Train_y.shape:  (637, 3)\n",
      "\n",
      "Split Training Validation\n",
      "Number of 0s in train_y: 1525\n",
      "Number of 1s train_y: 386\n",
      "Number of 0s in val_y: 374\n",
      "Number of 1s val_y: 103\n",
      "--------------------------------------------------------------------------------\n"
     ]
    }
   ],
   "source": [
    "# Load data for training a model with one specific medicine, including debugging information\n",
    "(X_np, X_val_np, train_y, val_y, \n",
    " num_col_x, num_1_valy, num_0_valy) = load_data.load_data_for_1_med_with_debug(del_med_thres=DeleteMedThreshold, \n",
    "                                                                               random_seed=3, \n",
    "                                                                               n=NumMedTrain, \n",
    "                                                                               file_name='raw_data/process_data.csv',\n",
    "                                                                               use_text_convert=True)\n",
    "\n",
    "# Ensure the correct data types for loaded variables\n",
    "assert isinstance(X_np, np.ndarray)\n",
    "assert isinstance(X_val_np, np.ndarray)\n",
    "assert isinstance(train_y, pd.DataFrame)\n",
    "assert isinstance(val_y, pd.DataFrame)\n",
    "assert isinstance(num_col_x, int)\n"
   ]
  },
  {
   "cell_type": "markdown",
   "metadata": {},
   "source": [
    "# 3. Data Type Checking"
   ]
  },
  {
   "cell_type": "code",
   "execution_count": 9,
   "metadata": {},
   "outputs": [
    {
     "name": "stdout",
     "output_type": "stream",
     "text": [
      "Number of NA values in y: 0\n",
      "Number of str values in y: 0\n",
      "Number of int values in y: 477\n",
      "Number of float values in y: 0\n"
     ]
    }
   ],
   "source": [
    "# Uncomment the line below to display the DataFrame content and structure\n",
    "# myutil.print_df(val_y, \"---- y ----\")\n",
    "\n",
    "# Uncomment the line below to print the DataFrame directly\n",
    "# print(val_y)\n",
    "\n",
    "# Checking:\n",
    "\n",
    "# Counting NA values in y\n",
    "na_count = val_y.isna().sum().sum()\n",
    "\n",
    "# Counting str values in y\n",
    "str_count = val_y[val_y.map(type) == str].count().sum()\n",
    "\n",
    "# Counting int values in y\n",
    "int_count = val_y[val_y.map(type) == int].count().sum()\n",
    "\n",
    "# Counting float values in y\n",
    "float_count = val_y[val_y.map(type) == float].count().sum()\n",
    "\n",
    "# Display the results\n",
    "print(f\"Number of NA values in y: {na_count}\")\n",
    "print(f\"Number of str values in y: {str_count}\")\n",
    "print(f\"Number of int values in y: {int_count}\")\n",
    "print(f\"Number of float values in y: {float_count}\")\n"
   ]
  },
  {
   "cell_type": "markdown",
   "metadata": {},
   "source": [
    "# 4. Compute Class Weight"
   ]
  },
  {
   "cell_type": "code",
   "execution_count": 10,
   "metadata": {},
   "outputs": [
    {
     "name": "stdout",
     "output_type": "stream",
     "text": [
      "{0: {0: 0.152276295133438, 1: 0.847723704866562}, 1: {0: 0.4301412872841444, 1: 0.5698587127158555}, 2: {0: 0.023547880690737835, 1: 0.9764521193092621}}\n"
     ]
    }
   ],
   "source": [
    "# Convert the 'train_y' DataFrame to a NumPy array\n",
    "train_y_np = np.array(train_y)\n",
    "\n",
    "# Determine the number of labels (columns) in the array\n",
    "num_labels = train_y_np.shape[1]\n",
    "\n",
    "# Initialize an empty dictionary to store class weights for each label\n",
    "class_weight_dic = {}\n",
    "\n",
    "# Iterate over each label column\n",
    "for i in range(num_labels):\n",
    "    # Count the occurrences of each class (0 and 1) in the current label column\n",
    "    unique_values, counts = np.unique(train_y_np[:, i], return_counts=True)\n",
    "    \n",
    "    # Create a dictionary mapping class values to their frequencies\n",
    "    value_frequency_dict = dict(zip(unique_values, counts))\n",
    "    \n",
    "    # Calculate the total number of occurrences for normalization\n",
    "    total = value_frequency_dict.get(0, 0) + value_frequency_dict.get(1, 0)\n",
    "    \n",
    "    # Calculate class weights and store them in the dictionary\n",
    "    class_weight_dic[i] = {0: (value_frequency_dict.get(1, 0) / total), 1: (value_frequency_dict.get(0, 0) / total)}\n",
    "\n",
    "# Display the computed class weights\n",
    "print(class_weight_dic)"
   ]
  },
  {
   "cell_type": "markdown",
   "metadata": {},
   "source": [
    "# 5. Build Model"
   ]
  },
  {
   "cell_type": "code",
   "execution_count": 11,
   "metadata": {},
   "outputs": [
    {
     "name": "stdout",
     "output_type": "stream",
     "text": [
      "Model: \"sequential\"\n",
      "_________________________________________________________________\n",
      " Layer (type)                Output Shape              Param #   \n",
      "=================================================================\n",
      " dense (Dense)               (None, 64)                7744      \n",
      "                                                                 \n",
      " dense_1 (Dense)             (None, 32)                2080      \n",
      "                                                                 \n",
      " dense_2 (Dense)             (None, 16)                528       \n",
      "                                                                 \n",
      " dense_3 (Dense)             (None, 2)                 34        \n",
      "                                                                 \n",
      "=================================================================\n",
      "Total params: 10,386\n",
      "Trainable params: 10,386\n",
      "Non-trainable params: 0\n",
      "_________________________________________________________________\n"
     ]
    }
   ],
   "source": [
    "# Define a Sequential model\n",
    "model = Sequential([\n",
    "    Dense(units=64, input_shape=(num_col_x,), activation='sigmoid'),\n",
    "    Dense(units=32, activation='relu'),\n",
    "    Dense(units=16, activation='sigmoid'),\n",
    "    Dense(units=2, activation='softmax')\n",
    "])\n",
    "\n",
    "# Display a summary of the model architecture\n",
    "model.summary()\n",
    "\n",
    "# Compile the model with specified optimizer, loss function, and metrics\n",
    "model.compile(optimizer=Adam(learning_rate=LearningRate),\n",
    "              loss='sparse_categorical_crossentropy',\n",
    "              metrics=['accuracy'])\n"
   ]
  },
  {
   "cell_type": "markdown",
   "metadata": {},
   "source": [
    "# 6. Train Model\n",
    "There will be a model for each medicine"
   ]
  },
  {
   "cell_type": "code",
   "execution_count": 12,
   "metadata": {},
   "outputs": [
    {
     "name": "stdout",
     "output_type": "stream",
     "text": [
      "Processing medicine 1 of 3: 麻黃\n",
      "Training stopped at epoch 444\n",
      "20/20 [==============================] - 0s 4ms/step\n",
      "5/5 [==============================] - 0s 5ms/step\n"
     ]
    },
    {
     "name": "stderr",
     "output_type": "stream",
     "text": [
      "C:\\Users\\taliah\\AppData\\Roaming\\Python\\Python39\\site-packages\\IPython\\core\\pylabtools.py:152: UserWarning: Glyph 40635 (\\N{CJK UNIFIED IDEOGRAPH-9EBB}) missing from current font.\n",
      "  fig.canvas.print_figure(bytes_io, **kw)\n",
      "C:\\Users\\taliah\\AppData\\Roaming\\Python\\Python39\\site-packages\\IPython\\core\\pylabtools.py:152: UserWarning: Glyph 40643 (\\N{CJK UNIFIED IDEOGRAPH-9EC3}) missing from current font.\n",
      "  fig.canvas.print_figure(bytes_io, **kw)\n"
     ]
    },
    {
     "data": {
      "image/png": "[encoded data removed]",
      "text/plain": [
       "<Figure size 640x480 with 1 Axes>"
      ]
     },
     "metadata": {},
     "output_type": "display_data"
    },
    {
     "name": "stdout",
     "output_type": "stream",
     "text": [
      "Processing medicine 2 of 3: 桂枝\n"
     ]
    },
    {
     "ename": "KeyboardInterrupt",
     "evalue": "",
     "output_type": "error",
     "traceback": [
      "\u001b[1;31m---------------------------------------------------------------------------\u001b[0m",
      "\u001b[1;31mKeyboardInterrupt\u001b[0m                         Traceback (most recent call last)",
      "Cell \u001b[1;32mIn[12], line 31\u001b[0m\n\u001b[0;32m     28\u001b[0m early_stopping \u001b[38;5;241m=\u001b[39m EarlyStopping(monitor\u001b[38;5;241m=\u001b[39m\u001b[38;5;124m'\u001b[39m\u001b[38;5;124mloss\u001b[39m\u001b[38;5;124m'\u001b[39m, patience\u001b[38;5;241m=\u001b[39m\u001b[38;5;241m30\u001b[39m, restore_best_weights\u001b[38;5;241m=\u001b[39m\u001b[38;5;28;01mTrue\u001b[39;00m)\n\u001b[0;32m     30\u001b[0m \u001b[38;5;66;03m# Fit the model for the current medicine\u001b[39;00m\n\u001b[1;32m---> 31\u001b[0m Model \u001b[38;5;241m=\u001b[39m \u001b[43mmodel\u001b[49m\u001b[38;5;241;43m.\u001b[39;49m\u001b[43mfit\u001b[49m\u001b[43m(\u001b[49m\n\u001b[0;32m     32\u001b[0m \u001b[43m    \u001b[49m\u001b[43mx\u001b[49m\u001b[38;5;241;43m=\u001b[39;49m\u001b[43mX_np\u001b[49m\u001b[43m,\u001b[49m\n\u001b[0;32m     33\u001b[0m \u001b[43m    \u001b[49m\u001b[43my\u001b[49m\u001b[38;5;241;43m=\u001b[39;49m\u001b[43mchosen_y_np\u001b[49m\u001b[43m,\u001b[49m\n\u001b[0;32m     34\u001b[0m \u001b[43m    \u001b[49m\u001b[43mclass_weight\u001b[49m\u001b[38;5;241;43m=\u001b[39;49m\u001b[43mclass_weight_dic\u001b[49m\u001b[43m[\u001b[49m\u001b[43mi\u001b[49m\u001b[43m]\u001b[49m\u001b[43m \u001b[49m\u001b[38;5;28;43;01mif\u001b[39;49;00m\u001b[43m \u001b[49m\u001b[43mUseClassWeight\u001b[49m\u001b[43m \u001b[49m\u001b[38;5;28;43;01melse\u001b[39;49;00m\u001b[43m \u001b[49m\u001b[38;5;28;43;01mNone\u001b[39;49;00m\u001b[43m,\u001b[49m\n\u001b[0;32m     35\u001b[0m \u001b[43m    \u001b[49m\u001b[43mepochs\u001b[49m\u001b[38;5;241;43m=\u001b[39;49m\u001b[38;5;241;43m5000\u001b[39;49m\u001b[43m,\u001b[49m\n\u001b[0;32m     36\u001b[0m \u001b[43m    \u001b[49m\u001b[43mshuffle\u001b[49m\u001b[38;5;241;43m=\u001b[39;49m\u001b[38;5;28;43;01mTrue\u001b[39;49;00m\u001b[43m,\u001b[49m\n\u001b[0;32m     37\u001b[0m \u001b[43m    \u001b[49m\u001b[43mverbose\u001b[49m\u001b[38;5;241;43m=\u001b[39;49m\u001b[38;5;241;43m0\u001b[39;49m\u001b[43m,\u001b[49m\n\u001b[0;32m     38\u001b[0m \u001b[43m    \u001b[49m\u001b[43mcallbacks\u001b[49m\u001b[38;5;241;43m=\u001b[39;49m\u001b[43m[\u001b[49m\u001b[43mearly_stopping\u001b[49m\u001b[43m]\u001b[49m\n\u001b[0;32m     39\u001b[0m \u001b[43m\u001b[49m\u001b[43m)\u001b[49m\n\u001b[0;32m     41\u001b[0m \u001b[38;5;66;03m# Print when training stopped\u001b[39;00m\n\u001b[0;32m     42\u001b[0m \u001b[38;5;28mprint\u001b[39m(\u001b[38;5;124mf\u001b[39m\u001b[38;5;124m\"\u001b[39m\u001b[38;5;124mTraining stopped at epoch \u001b[39m\u001b[38;5;132;01m{\u001b[39;00mModel\u001b[38;5;241m.\u001b[39mepoch[\u001b[38;5;241m-\u001b[39m\u001b[38;5;241m1\u001b[39m]\u001b[38;5;132;01m}\u001b[39;00m\u001b[38;5;124m\"\u001b[39m)\n",
      "File \u001b[1;32mc:\\Users\\taliah\\miniconda3\\envs\\ml2\\lib\\site-packages\\keras\\utils\\traceback_utils.py:65\u001b[0m, in \u001b[0;36mfilter_traceback.<locals>.error_handler\u001b[1;34m(*args, **kwargs)\u001b[0m\n\u001b[0;32m     63\u001b[0m filtered_tb \u001b[38;5;241m=\u001b[39m \u001b[38;5;28;01mNone\u001b[39;00m\n\u001b[0;32m     64\u001b[0m \u001b[38;5;28;01mtry\u001b[39;00m:\n\u001b[1;32m---> 65\u001b[0m     \u001b[38;5;28;01mreturn\u001b[39;00m fn(\u001b[38;5;241m*\u001b[39margs, \u001b[38;5;241m*\u001b[39m\u001b[38;5;241m*\u001b[39mkwargs)\n\u001b[0;32m     66\u001b[0m \u001b[38;5;28;01mexcept\u001b[39;00m \u001b[38;5;167;01mException\u001b[39;00m \u001b[38;5;28;01mas\u001b[39;00m e:\n\u001b[0;32m     67\u001b[0m     filtered_tb \u001b[38;5;241m=\u001b[39m _process_traceback_frames(e\u001b[38;5;241m.\u001b[39m__traceback__)\n",
      "File \u001b[1;32mc:\\Users\\taliah\\miniconda3\\envs\\ml2\\lib\\site-packages\\keras\\engine\\training.py:1564\u001b[0m, in \u001b[0;36mModel.fit\u001b[1;34m(self, x, y, batch_size, epochs, verbose, callbacks, validation_split, validation_data, shuffle, class_weight, sample_weight, initial_epoch, steps_per_epoch, validation_steps, validation_batch_size, validation_freq, max_queue_size, workers, use_multiprocessing)\u001b[0m\n\u001b[0;32m   1556\u001b[0m \u001b[38;5;28;01mwith\u001b[39;00m tf\u001b[38;5;241m.\u001b[39mprofiler\u001b[38;5;241m.\u001b[39mexperimental\u001b[38;5;241m.\u001b[39mTrace(\n\u001b[0;32m   1557\u001b[0m     \u001b[38;5;124m\"\u001b[39m\u001b[38;5;124mtrain\u001b[39m\u001b[38;5;124m\"\u001b[39m,\n\u001b[0;32m   1558\u001b[0m     epoch_num\u001b[38;5;241m=\u001b[39mepoch,\n\u001b[1;32m   (...)\u001b[0m\n\u001b[0;32m   1561\u001b[0m     _r\u001b[38;5;241m=\u001b[39m\u001b[38;5;241m1\u001b[39m,\n\u001b[0;32m   1562\u001b[0m ):\n\u001b[0;32m   1563\u001b[0m     callbacks\u001b[38;5;241m.\u001b[39mon_train_batch_begin(step)\n\u001b[1;32m-> 1564\u001b[0m     tmp_logs \u001b[38;5;241m=\u001b[39m \u001b[38;5;28;43mself\u001b[39;49m\u001b[38;5;241;43m.\u001b[39;49m\u001b[43mtrain_function\u001b[49m\u001b[43m(\u001b[49m\u001b[43miterator\u001b[49m\u001b[43m)\u001b[49m\n\u001b[0;32m   1565\u001b[0m     \u001b[38;5;28;01mif\u001b[39;00m data_handler\u001b[38;5;241m.\u001b[39mshould_sync:\n\u001b[0;32m   1566\u001b[0m         context\u001b[38;5;241m.\u001b[39masync_wait()\n",
      "File \u001b[1;32mc:\\Users\\taliah\\miniconda3\\envs\\ml2\\lib\\site-packages\\tensorflow\\python\\util\\traceback_utils.py:150\u001b[0m, in \u001b[0;36mfilter_traceback.<locals>.error_handler\u001b[1;34m(*args, **kwargs)\u001b[0m\n\u001b[0;32m    148\u001b[0m filtered_tb \u001b[38;5;241m=\u001b[39m \u001b[38;5;28;01mNone\u001b[39;00m\n\u001b[0;32m    149\u001b[0m \u001b[38;5;28;01mtry\u001b[39;00m:\n\u001b[1;32m--> 150\u001b[0m   \u001b[38;5;28;01mreturn\u001b[39;00m fn(\u001b[38;5;241m*\u001b[39margs, \u001b[38;5;241m*\u001b[39m\u001b[38;5;241m*\u001b[39mkwargs)\n\u001b[0;32m    151\u001b[0m \u001b[38;5;28;01mexcept\u001b[39;00m \u001b[38;5;167;01mException\u001b[39;00m \u001b[38;5;28;01mas\u001b[39;00m e:\n\u001b[0;32m    152\u001b[0m   filtered_tb \u001b[38;5;241m=\u001b[39m _process_traceback_frames(e\u001b[38;5;241m.\u001b[39m__traceback__)\n",
      "File \u001b[1;32mc:\\Users\\taliah\\miniconda3\\envs\\ml2\\lib\\site-packages\\tensorflow\\python\\eager\\def_function.py:915\u001b[0m, in \u001b[0;36mFunction.__call__\u001b[1;34m(self, *args, **kwds)\u001b[0m\n\u001b[0;32m    912\u001b[0m compiler \u001b[38;5;241m=\u001b[39m \u001b[38;5;124m\"\u001b[39m\u001b[38;5;124mxla\u001b[39m\u001b[38;5;124m\"\u001b[39m \u001b[38;5;28;01mif\u001b[39;00m \u001b[38;5;28mself\u001b[39m\u001b[38;5;241m.\u001b[39m_jit_compile \u001b[38;5;28;01melse\u001b[39;00m \u001b[38;5;124m\"\u001b[39m\u001b[38;5;124mnonXla\u001b[39m\u001b[38;5;124m\"\u001b[39m\n\u001b[0;32m    914\u001b[0m \u001b[38;5;28;01mwith\u001b[39;00m OptionalXlaContext(\u001b[38;5;28mself\u001b[39m\u001b[38;5;241m.\u001b[39m_jit_compile):\n\u001b[1;32m--> 915\u001b[0m   result \u001b[38;5;241m=\u001b[39m \u001b[38;5;28mself\u001b[39m\u001b[38;5;241m.\u001b[39m_call(\u001b[38;5;241m*\u001b[39margs, \u001b[38;5;241m*\u001b[39m\u001b[38;5;241m*\u001b[39mkwds)\n\u001b[0;32m    917\u001b[0m new_tracing_count \u001b[38;5;241m=\u001b[39m \u001b[38;5;28mself\u001b[39m\u001b[38;5;241m.\u001b[39mexperimental_get_tracing_count()\n\u001b[0;32m    918\u001b[0m without_tracing \u001b[38;5;241m=\u001b[39m (tracing_count \u001b[38;5;241m==\u001b[39m new_tracing_count)\n",
      "File \u001b[1;32mc:\\Users\\taliah\\miniconda3\\envs\\ml2\\lib\\site-packages\\tensorflow\\python\\eager\\def_function.py:947\u001b[0m, in \u001b[0;36mFunction._call\u001b[1;34m(self, *args, **kwds)\u001b[0m\n\u001b[0;32m    944\u001b[0m   \u001b[38;5;28mself\u001b[39m\u001b[38;5;241m.\u001b[39m_lock\u001b[38;5;241m.\u001b[39mrelease()\n\u001b[0;32m    945\u001b[0m   \u001b[38;5;66;03m# In this case we have created variables on the first call, so we run the\u001b[39;00m\n\u001b[0;32m    946\u001b[0m   \u001b[38;5;66;03m# defunned version which is guaranteed to never create variables.\u001b[39;00m\n\u001b[1;32m--> 947\u001b[0m   \u001b[38;5;28;01mreturn\u001b[39;00m \u001b[38;5;28mself\u001b[39m\u001b[38;5;241m.\u001b[39m_stateless_fn(\u001b[38;5;241m*\u001b[39margs, \u001b[38;5;241m*\u001b[39m\u001b[38;5;241m*\u001b[39mkwds)  \u001b[38;5;66;03m# pylint: disable=not-callable\u001b[39;00m\n\u001b[0;32m    948\u001b[0m \u001b[38;5;28;01melif\u001b[39;00m \u001b[38;5;28mself\u001b[39m\u001b[38;5;241m.\u001b[39m_stateful_fn \u001b[38;5;129;01mis\u001b[39;00m \u001b[38;5;129;01mnot\u001b[39;00m \u001b[38;5;28;01mNone\u001b[39;00m:\n\u001b[0;32m    949\u001b[0m   \u001b[38;5;66;03m# Release the lock early so that multiple threads can perform the call\u001b[39;00m\n\u001b[0;32m    950\u001b[0m   \u001b[38;5;66;03m# in parallel.\u001b[39;00m\n\u001b[0;32m    951\u001b[0m   \u001b[38;5;28mself\u001b[39m\u001b[38;5;241m.\u001b[39m_lock\u001b[38;5;241m.\u001b[39mrelease()\n",
      "File \u001b[1;32mc:\\Users\\taliah\\miniconda3\\envs\\ml2\\lib\\site-packages\\tensorflow\\python\\eager\\function.py:2496\u001b[0m, in \u001b[0;36mFunction.__call__\u001b[1;34m(self, *args, **kwargs)\u001b[0m\n\u001b[0;32m   2493\u001b[0m \u001b[38;5;28;01mwith\u001b[39;00m \u001b[38;5;28mself\u001b[39m\u001b[38;5;241m.\u001b[39m_lock:\n\u001b[0;32m   2494\u001b[0m   (graph_function,\n\u001b[0;32m   2495\u001b[0m    filtered_flat_args) \u001b[38;5;241m=\u001b[39m \u001b[38;5;28mself\u001b[39m\u001b[38;5;241m.\u001b[39m_maybe_define_function(args, kwargs)\n\u001b[1;32m-> 2496\u001b[0m \u001b[38;5;28;01mreturn\u001b[39;00m \u001b[43mgraph_function\u001b[49m\u001b[38;5;241;43m.\u001b[39;49m\u001b[43m_call_flat\u001b[49m\u001b[43m(\u001b[49m\n\u001b[0;32m   2497\u001b[0m \u001b[43m    \u001b[49m\u001b[43mfiltered_flat_args\u001b[49m\u001b[43m,\u001b[49m\u001b[43m \u001b[49m\u001b[43mcaptured_inputs\u001b[49m\u001b[38;5;241;43m=\u001b[39;49m\u001b[43mgraph_function\u001b[49m\u001b[38;5;241;43m.\u001b[39;49m\u001b[43mcaptured_inputs\u001b[49m\u001b[43m)\u001b[49m\n",
      "File \u001b[1;32mc:\\Users\\taliah\\miniconda3\\envs\\ml2\\lib\\site-packages\\tensorflow\\python\\eager\\function.py:1862\u001b[0m, in \u001b[0;36mConcreteFunction._call_flat\u001b[1;34m(self, args, captured_inputs, cancellation_manager)\u001b[0m\n\u001b[0;32m   1858\u001b[0m possible_gradient_type \u001b[38;5;241m=\u001b[39m gradients_util\u001b[38;5;241m.\u001b[39mPossibleTapeGradientTypes(args)\n\u001b[0;32m   1859\u001b[0m \u001b[38;5;28;01mif\u001b[39;00m (possible_gradient_type \u001b[38;5;241m==\u001b[39m gradients_util\u001b[38;5;241m.\u001b[39mPOSSIBLE_GRADIENT_TYPES_NONE\n\u001b[0;32m   1860\u001b[0m     \u001b[38;5;129;01mand\u001b[39;00m executing_eagerly):\n\u001b[0;32m   1861\u001b[0m   \u001b[38;5;66;03m# No tape is watching; skip to running the function.\u001b[39;00m\n\u001b[1;32m-> 1862\u001b[0m   \u001b[38;5;28;01mreturn\u001b[39;00m \u001b[38;5;28mself\u001b[39m\u001b[38;5;241m.\u001b[39m_build_call_outputs(\u001b[38;5;28;43mself\u001b[39;49m\u001b[38;5;241;43m.\u001b[39;49m\u001b[43m_inference_function\u001b[49m\u001b[38;5;241;43m.\u001b[39;49m\u001b[43mcall\u001b[49m\u001b[43m(\u001b[49m\n\u001b[0;32m   1863\u001b[0m \u001b[43m      \u001b[49m\u001b[43mctx\u001b[49m\u001b[43m,\u001b[49m\u001b[43m \u001b[49m\u001b[43margs\u001b[49m\u001b[43m,\u001b[49m\u001b[43m \u001b[49m\u001b[43mcancellation_manager\u001b[49m\u001b[38;5;241;43m=\u001b[39;49m\u001b[43mcancellation_manager\u001b[49m\u001b[43m)\u001b[49m)\n\u001b[0;32m   1864\u001b[0m forward_backward \u001b[38;5;241m=\u001b[39m \u001b[38;5;28mself\u001b[39m\u001b[38;5;241m.\u001b[39m_select_forward_and_backward_functions(\n\u001b[0;32m   1865\u001b[0m     args,\n\u001b[0;32m   1866\u001b[0m     possible_gradient_type,\n\u001b[0;32m   1867\u001b[0m     executing_eagerly)\n\u001b[0;32m   1868\u001b[0m forward_function, args_with_tangents \u001b[38;5;241m=\u001b[39m forward_backward\u001b[38;5;241m.\u001b[39mforward()\n",
      "File \u001b[1;32mc:\\Users\\taliah\\miniconda3\\envs\\ml2\\lib\\site-packages\\tensorflow\\python\\eager\\function.py:499\u001b[0m, in \u001b[0;36m_EagerDefinedFunction.call\u001b[1;34m(self, ctx, args, cancellation_manager)\u001b[0m\n\u001b[0;32m    497\u001b[0m \u001b[38;5;28;01mwith\u001b[39;00m _InterpolateFunctionError(\u001b[38;5;28mself\u001b[39m):\n\u001b[0;32m    498\u001b[0m   \u001b[38;5;28;01mif\u001b[39;00m cancellation_manager \u001b[38;5;129;01mis\u001b[39;00m \u001b[38;5;28;01mNone\u001b[39;00m:\n\u001b[1;32m--> 499\u001b[0m     outputs \u001b[38;5;241m=\u001b[39m \u001b[43mexecute\u001b[49m\u001b[38;5;241;43m.\u001b[39;49m\u001b[43mexecute\u001b[49m\u001b[43m(\u001b[49m\n\u001b[0;32m    500\u001b[0m \u001b[43m        \u001b[49m\u001b[38;5;28;43mstr\u001b[39;49m\u001b[43m(\u001b[49m\u001b[38;5;28;43mself\u001b[39;49m\u001b[38;5;241;43m.\u001b[39;49m\u001b[43msignature\u001b[49m\u001b[38;5;241;43m.\u001b[39;49m\u001b[43mname\u001b[49m\u001b[43m)\u001b[49m\u001b[43m,\u001b[49m\n\u001b[0;32m    501\u001b[0m \u001b[43m        \u001b[49m\u001b[43mnum_outputs\u001b[49m\u001b[38;5;241;43m=\u001b[39;49m\u001b[38;5;28;43mself\u001b[39;49m\u001b[38;5;241;43m.\u001b[39;49m\u001b[43m_num_outputs\u001b[49m\u001b[43m,\u001b[49m\n\u001b[0;32m    502\u001b[0m \u001b[43m        \u001b[49m\u001b[43minputs\u001b[49m\u001b[38;5;241;43m=\u001b[39;49m\u001b[43margs\u001b[49m\u001b[43m,\u001b[49m\n\u001b[0;32m    503\u001b[0m \u001b[43m        \u001b[49m\u001b[43mattrs\u001b[49m\u001b[38;5;241;43m=\u001b[39;49m\u001b[43mattrs\u001b[49m\u001b[43m,\u001b[49m\n\u001b[0;32m    504\u001b[0m \u001b[43m        \u001b[49m\u001b[43mctx\u001b[49m\u001b[38;5;241;43m=\u001b[39;49m\u001b[43mctx\u001b[49m\u001b[43m)\u001b[49m\n\u001b[0;32m    505\u001b[0m   \u001b[38;5;28;01melse\u001b[39;00m:\n\u001b[0;32m    506\u001b[0m     outputs \u001b[38;5;241m=\u001b[39m execute\u001b[38;5;241m.\u001b[39mexecute_with_cancellation(\n\u001b[0;32m    507\u001b[0m         \u001b[38;5;28mstr\u001b[39m(\u001b[38;5;28mself\u001b[39m\u001b[38;5;241m.\u001b[39msignature\u001b[38;5;241m.\u001b[39mname),\n\u001b[0;32m    508\u001b[0m         num_outputs\u001b[38;5;241m=\u001b[39m\u001b[38;5;28mself\u001b[39m\u001b[38;5;241m.\u001b[39m_num_outputs,\n\u001b[1;32m   (...)\u001b[0m\n\u001b[0;32m    511\u001b[0m         ctx\u001b[38;5;241m=\u001b[39mctx,\n\u001b[0;32m    512\u001b[0m         cancellation_manager\u001b[38;5;241m=\u001b[39mcancellation_manager)\n",
      "File \u001b[1;32mc:\\Users\\taliah\\miniconda3\\envs\\ml2\\lib\\site-packages\\tensorflow\\python\\eager\\execute.py:54\u001b[0m, in \u001b[0;36mquick_execute\u001b[1;34m(op_name, num_outputs, inputs, attrs, ctx, name)\u001b[0m\n\u001b[0;32m     52\u001b[0m \u001b[38;5;28;01mtry\u001b[39;00m:\n\u001b[0;32m     53\u001b[0m   ctx\u001b[38;5;241m.\u001b[39mensure_initialized()\n\u001b[1;32m---> 54\u001b[0m   tensors \u001b[38;5;241m=\u001b[39m \u001b[43mpywrap_tfe\u001b[49m\u001b[38;5;241;43m.\u001b[39;49m\u001b[43mTFE_Py_Execute\u001b[49m\u001b[43m(\u001b[49m\u001b[43mctx\u001b[49m\u001b[38;5;241;43m.\u001b[39;49m\u001b[43m_handle\u001b[49m\u001b[43m,\u001b[49m\u001b[43m \u001b[49m\u001b[43mdevice_name\u001b[49m\u001b[43m,\u001b[49m\u001b[43m \u001b[49m\u001b[43mop_name\u001b[49m\u001b[43m,\u001b[49m\n\u001b[0;32m     55\u001b[0m \u001b[43m                                      \u001b[49m\u001b[43minputs\u001b[49m\u001b[43m,\u001b[49m\u001b[43m \u001b[49m\u001b[43mattrs\u001b[49m\u001b[43m,\u001b[49m\u001b[43m \u001b[49m\u001b[43mnum_outputs\u001b[49m\u001b[43m)\u001b[49m\n\u001b[0;32m     56\u001b[0m \u001b[38;5;28;01mexcept\u001b[39;00m core\u001b[38;5;241m.\u001b[39m_NotOkStatusException \u001b[38;5;28;01mas\u001b[39;00m e:\n\u001b[0;32m     57\u001b[0m   \u001b[38;5;28;01mif\u001b[39;00m name \u001b[38;5;129;01mis\u001b[39;00m \u001b[38;5;129;01mnot\u001b[39;00m \u001b[38;5;28;01mNone\u001b[39;00m:\n",
      "\u001b[1;31mKeyboardInterrupt\u001b[0m: "
     ]
    },
    {
     "data": {
      "text/plain": [
       "<Figure size 640x480 with 0 Axes>"
      ]
     },
     "metadata": {},
     "output_type": "display_data"
    }
   ],
   "source": [
    "\n",
    "# Initialize dictionaries to store results and training history\n",
    "result_df_dict = {}        # Dictionary of DataFrames of each medicine in training set \n",
    "accuracy_dict = {}         # Dictionary of accuracy for each medicine\n",
    "prediction_train_dict = {}  # Dictionary of raw predictions for the training set\n",
    "prediction_val_dict = {}    # Dictionary of raw predictions for the validation set\n",
    "\n",
    "# Iterate over each medicine\n",
    "for i in range(train_y.shape[1]):\n",
    "    chosen_col = train_y.iloc[:, i].copy()\n",
    "    \n",
    "    # Ensure that the chosen column is a pandas Series\n",
    "    assert(isinstance(chosen_col, pd.Series))\n",
    "    assert(len(chosen_col) == len(train_y))\n",
    "    \n",
    "    print(f\"Processing medicine {i + 1} of {train_y.shape[1]}: {chosen_col.name}\")\n",
    "\n",
    "    # Convert the chosen column to NumPy array\n",
    "    chosen_y_np = chosen_col.values.astype('float64')\n",
    "\n",
    "    # Copy the corresponding validation set column\n",
    "    y_val_chosen_col = val_y.iloc[:, i].copy()\n",
    "    \n",
    "    # Ensure that the validation set column is a pandas Series\n",
    "    assert(isinstance(y_val_chosen_col, pd.Series))\n",
    "    assert(len(y_val_chosen_col) == len(val_y))\n",
    "\n",
    "    # Early stopping callback\n",
    "    early_stopping = EarlyStopping(monitor='loss', patience=30, restore_best_weights=True)\n",
    "\n",
    "    # Fit the model for the current medicine\n",
    "    Model = model.fit(\n",
    "        x=X_np,\n",
    "        y=chosen_y_np,\n",
    "        class_weight=class_weight_dic[i] if UseClassWeight else None,\n",
    "        epochs=5000,\n",
    "        shuffle=True,\n",
    "        verbose=0,\n",
    "        callbacks=[early_stopping]\n",
    "    )\n",
    "    \n",
    "    # Print when training stopped\n",
    "    print(f\"Training stopped at epoch {Model.epoch[-1]}\")\n",
    "    \n",
    "    # Predict against the training set for diagnosing overfitting or underfitting\n",
    "    predictions_train_set = model.predict(X_np)\n",
    "    \n",
    "    # Save raw result numpy array of training set to the dictionary\n",
    "    prediction_train_dict[chosen_col.name] = predictions_train_set\n",
    "    \n",
    "    # Make predictions for the validation set\n",
    "    predictions_val_set = model.predict(X_val_np)\n",
    "    \n",
    "    # Save raw result numpy array of validation set to the dictionary\n",
    "    prediction_val_dict[chosen_col.name] = predictions_val_set\n",
    "    \n",
    "    # Plotting loss vs. epoch\n",
    "    plt.plot(Model.history['loss'], label='Training Loss')\n",
    "    plt.title(f'Loss vs. Epoch of {chosen_col.name}')\n",
    "    plt.xlabel('Epoch')\n",
    "    plt.ylabel('Loss')\n",
    "    plt.legend()\n",
    "    plt.show()\n",
    "    figure_save_path = myutil.get_figure_save_path(f\"{chosen_col.name}_epoch_loss\")\n",
    "    plt.savefig(figure_save_path)\n",
    "\n",
    "print(\"Training done.\")\n"
   ]
  },
  {
   "cell_type": "markdown",
   "metadata": {},
   "source": [
    "# 7. Handle result\n",
    "\n",
    "### 7.1 Calculate the f1 score of the training dataset and store the values in TrainMedicineDictioanry"
   ]
  },
  {
   "cell_type": "code",
   "execution_count": null,
   "metadata": {},
   "outputs": [
    {
     "name": "stdout",
     "output_type": "stream",
     "text": [
      "TrainMedicineDictioanry:\n",
      "桂枝 {'TP': 183, 'FP': 32, 'FN': 82, 'TN': 242, 'precision': 0.8511627906976744, 'recall': 0.690566037735849, 'f1-score': 0.7625}\n",
      "柴胡 {'TP': 131, 'FP': 13, 'FN': 80, 'TN': 315, 'precision': 0.9097222222222222, 'recall': 0.6208530805687204, 'f1-score': 0.7380281690140844}\n",
      "黃芩 {'TP': 164, 'FP': 13, 'FN': 92, 'TN': 270, 'precision': 0.9265536723163842, 'recall': 0.640625, 'f1-score': 0.7575057736720555}\n",
      "茯苓 {'TP': 121, 'FP': 15, 'FN': 89, 'TN': 314, 'precision': 0.8897058823529411, 'recall': 0.5761904761904761, 'f1-score': 0.6994219653179191}\n",
      "澤瀉 {'TP': 137, 'FP': 6, 'FN': 101, 'TN': 295, 'precision': 0.958041958041958, 'recall': 0.5756302521008403, 'f1-score': 0.7191601049868765}\n",
      "附子 {'TP': 184, 'FP': 35, 'FN': 82, 'TN': 238, 'precision': 0.8401826484018264, 'recall': 0.6917293233082706, 'f1-score': 0.7587628865979381}\n",
      "甘草 {'TP': 342, 'FP': 85, 'FN': 11, 'TN': 101, 'precision': 0.8009367681498829, 'recall': 0.9688385269121813, 'f1-score': 0.8769230769230769}\n",
      "當歸 {'TP': 139, 'FP': 32, 'FN': 63, 'TN': 305, 'precision': 0.8128654970760234, 'recall': 0.6881188118811881, 'f1-score': 0.745308310991957}\n",
      "白芍 {'TP': 306, 'FP': 71, 'FN': 35, 'TN': 127, 'precision': 0.8116710875331565, 'recall': 0.8973607038123167, 'f1-score': 0.8523676880222842}\n",
      "炙甘草 {'TP': 352, 'FP': 80, 'FN': 12, 'TN': 95, 'precision': 0.8148148148148148, 'recall': 0.967032967032967, 'f1-score': 0.8844221105527638}\n",
      "overall {'TP': 2059, 'FP': 382, 'FN': 647, 'TN': 2302, 'precision': 0.8435067595247849, 'recall': 0.7609016999260901, 'f1-score': 0.8000777151738878}\n"
     ]
    }
   ],
   "source": [
    "# Calculate True Positives (TP), False Positives (FP), True Negatives (TN), and False Negatives (FN) for the training set\n",
    "total_tp_train = 0\n",
    "total_fp_train = 0\n",
    "total_tn_train = 0\n",
    "total_fn_train = 0\n",
    "\n",
    "# Create a dictioanry to store all values of a medicine\n",
    "TrainMedicineDictioanry = {}\n",
    "\n",
    "# Iterate through each medicine's raw prediction array\n",
    "for key, arr in prediction_train_dict.items():\n",
    "    \n",
    "    # Create a DataFrame from the raw prediction array\n",
    "    df_tmp = pd.DataFrame(arr, columns=[\"predicted as 0\", \"predicted as 1\"])\n",
    "\n",
    "    # Determine the predicted value based on probabilities\n",
    "    df_tmp[\"predicted value\"] = np.where(df_tmp[\"predicted as 0\"] > df_tmp[\"predicted as 1\"], 0, 1)\n",
    "    \n",
    "    # Get the column number of the current medicine in the training labels\n",
    "    col_num = train_y.columns.get_loc(key)\n",
    "    \n",
    "    # Add ground truth values to the DataFrame\n",
    "    df_tmp[\"ground truth\"] = train_y.iloc[:, col_num].copy().values\n",
    "    \n",
    "    \n",
    "    TP = ((df_tmp['ground truth'] == 1) & (df_tmp['predicted value'] == 1)).sum()\n",
    "    FP = ((df_tmp['ground truth'] == 0) & (df_tmp['predicted value'] == 1)).sum()\n",
    "    FN = ((df_tmp['ground truth'] == 1) & (df_tmp['predicted value'] == 0)).sum()\n",
    "    TN = ((df_tmp['ground truth'] == 0) & (df_tmp['predicted value'] == 0)).sum()\n",
    "    precision = TP / (TP + FP)\n",
    "    recall = TP / (TP + FN)\n",
    "    f1score = 2 * precision * recall / (precision + recall) if (precision + recall) > 0 else 0\n",
    "    \n",
    "    # Calculate TP, FP, FN, TN for the current medicine\n",
    "    total_tp_train += TP\n",
    "    total_fp_train += FP\n",
    "    total_fn_train += FN\n",
    "    total_tn_train += TN\n",
    "    \n",
    "    TrainMedicineDictioanry[key] = {\n",
    "        \"TP\" : TP,\n",
    "        \"FP\" : FP,\n",
    "        \"FN\" : FN,\n",
    "        \"TN\" : TN,\n",
    "        \"precision\" : precision,\n",
    "        \"recall\" : recall,\n",
    "        \"f1-score\" : f1score\n",
    "    }\n",
    "\n",
    "precision = total_tp_train / (total_tp_train + total_fp_train)\n",
    "recall = total_tp_train / (total_tp_train + total_fn_train)\n",
    "\n",
    "TrainMedicineDictioanry[\"overall\"] = {\n",
    "        \"TP\" : total_tp_train,\n",
    "        \"FP\" : total_fp_train,\n",
    "        \"FN\" : total_fn_train,\n",
    "        \"TN\" : total_tn_train,\n",
    "        \"precision\" : precision,\n",
    "        \"recall\" : recall,\n",
    "        \"f1-score\" : 2 * precision * recall / (precision + recall) if (precision + recall) > 0 else 0\n",
    "}\n",
    "\n",
    "print(\"TrainMedicineDictioanry:\")\n",
    "for key in TrainMedicineDictioanry:\n",
    "    print(key, TrainMedicineDictioanry[key])"
   ]
  },
  {
   "cell_type": "markdown",
   "metadata": {},
   "source": [
    "### 7.2 Calculate the f1 score of the validation dataset and store the values in ValMedicineDictioanry"
   ]
  },
  {
   "cell_type": "code",
   "execution_count": null,
   "metadata": {},
   "outputs": [
    {
     "name": "stdout",
     "output_type": "stream",
     "text": [
      "ValMedicineDictioanry:\n",
      "桂枝 {'TP': 34, 'FP': 15, 'FN': 35, 'TN': 50, 'precision': 0.6938775510204082, 'recall': 0.4927536231884058, 'f1-score': 0.576271186440678}\n",
      "柴胡 {'TP': 20, 'FP': 20, 'FN': 29, 'TN': 65, 'precision': 0.5, 'recall': 0.40816326530612246, 'f1-score': 0.449438202247191}\n",
      "黃芩 {'TP': 22, 'FP': 22, 'FN': 37, 'TN': 53, 'precision': 0.5, 'recall': 0.3728813559322034, 'f1-score': 0.42718446601941745}\n",
      "茯苓 {'TP': 21, 'FP': 18, 'FN': 38, 'TN': 57, 'precision': 0.5384615384615384, 'recall': 0.3559322033898305, 'f1-score': 0.42857142857142855}\n",
      "澤瀉 {'TP': 26, 'FP': 18, 'FN': 35, 'TN': 55, 'precision': 0.5909090909090909, 'recall': 0.4262295081967213, 'f1-score': 0.49523809523809526}\n",
      "附子 {'TP': 36, 'FP': 14, 'FN': 33, 'TN': 51, 'precision': 0.72, 'recall': 0.5217391304347826, 'f1-score': 0.6050420168067228}\n",
      "甘草 {'TP': 78, 'FP': 34, 'FN': 12, 'TN': 10, 'precision': 0.6964285714285714, 'recall': 0.8666666666666667, 'f1-score': 0.7722772277227722}\n",
      "當歸 {'TP': 19, 'FP': 14, 'FN': 37, 'TN': 64, 'precision': 0.5757575757575758, 'recall': 0.3392857142857143, 'f1-score': 0.4269662921348315}\n",
      "白芍 {'TP': 62, 'FP': 29, 'FN': 16, 'TN': 27, 'precision': 0.6813186813186813, 'recall': 0.7948717948717948, 'f1-score': 0.7337278106508875}\n",
      "炙甘草 {'TP': 74, 'FP': 32, 'FN': 18, 'TN': 10, 'precision': 0.6981132075471698, 'recall': 0.8043478260869565, 'f1-score': 0.7474747474747474}\n",
      "overall {'TP': 392, 'FP': 216, 'FN': 290, 'TN': 442, 'precision': 0.6447368421052632, 'recall': 0.5747800586510264, 'f1-score': 0.6077519379844961}\n"
     ]
    }
   ],
   "source": [
    "# Calculate True Positives (TP), False Positives (FP), True Negatives (TN), and False Negatives (FN) for the training set\n",
    "total_tp_train = 0\n",
    "total_fp_train = 0\n",
    "total_tn_train = 0\n",
    "total_fn_train = 0\n",
    "\n",
    "# Create a dictioanry to store all values of a medicine\n",
    "ValMedicineDictioanry = {}\n",
    "\n",
    "# Iterate through each medicine's raw prediction array\n",
    "for key, arr in prediction_val_dict.items():\n",
    "    \n",
    "    # Create a DataFrame from the raw prediction array\n",
    "    df_tmp = pd.DataFrame(arr, columns=[\"predicted as 0\", \"predicted as 1\"])\n",
    "\n",
    "    # Determine the predicted value based on probabilities\n",
    "    df_tmp[\"predicted value\"] = np.where(df_tmp[\"predicted as 0\"] > df_tmp[\"predicted as 1\"], 0, 1)\n",
    "    \n",
    "    # Get the column number of the current medicine in the training labels\n",
    "    col_num = val_y.columns.get_loc(key)\n",
    "    \n",
    "    # Add ground truth values to the DataFrame\n",
    "    df_tmp[\"ground truth\"] = val_y.iloc[:, col_num].copy().values\n",
    "    result_df_dict[key] = df_tmp\n",
    "    \n",
    "    TP = ((df_tmp['ground truth'] == 1) & (df_tmp['predicted value'] == 1)).sum()\n",
    "    FP = ((df_tmp['ground truth'] == 0) & (df_tmp['predicted value'] == 1)).sum()\n",
    "    FN = ((df_tmp['ground truth'] == 1) & (df_tmp['predicted value'] == 0)).sum()\n",
    "    TN = ((df_tmp['ground truth'] == 0) & (df_tmp['predicted value'] == 0)).sum()\n",
    "    precision = TP / (TP + FP)\n",
    "    recall = TP / (TP + FN)\n",
    "    f1score = 2 * precision * recall / (precision + recall) if (precision + recall) > 0 else 0\n",
    "    \n",
    "    # Calculate TP, FP, FN, TN for the current medicine\n",
    "    total_tp_train += TP\n",
    "    total_fp_train += FP\n",
    "    total_fn_train += FN\n",
    "    total_tn_train += TN\n",
    "    \n",
    "    ValMedicineDictioanry[key] = {\n",
    "        \"TP\" : TP,\n",
    "        \"FP\" : FP,\n",
    "        \"FN\" : FN,\n",
    "        \"TN\" : TN,\n",
    "        \"precision\" : precision,\n",
    "        \"recall\" : recall,\n",
    "        \"f1-score\" : f1score\n",
    "    }\n",
    "\n",
    "precision = total_tp_train / (total_tp_train + total_fp_train)\n",
    "recall = total_tp_train / (total_tp_train + total_fn_train)\n",
    "\n",
    "ValMedicineDictioanry[\"overall\"] = {\n",
    "        \"TP\" : total_tp_train,\n",
    "        \"FP\" : total_fp_train,\n",
    "        \"FN\" : total_fn_train,\n",
    "        \"TN\" : total_tn_train,\n",
    "        \"precision\" : precision,\n",
    "        \"recall\" : recall,\n",
    "        \"f1-score\" : 2 * precision * recall / (precision + recall) if (precision + recall) > 0 else 0\n",
    "}\n",
    "\n",
    "print(\"ValMedicineDictioanry:\")\n",
    "for key in ValMedicineDictioanry:\n",
    "    print(key, ValMedicineDictioanry[key])"
   ]
  },
  {
   "cell_type": "markdown",
   "metadata": {},
   "source": [
    "# 8. Result Saving\n",
    "\n",
    "Saving resulting DataFrames to csv and dictionaries to txt for later usage"
   ]
  },
  {
   "cell_type": "code",
   "execution_count": null,
   "metadata": {},
   "outputs": [
    {
     "name": "stdout",
     "output_type": "stream",
     "text": [
      "桂枝 saved to ./result/result_each_medicine_val_csv/桂枝_2.csv\n",
      "柴胡 saved to ./result/result_each_medicine_val_csv/柴胡_1.csv\n",
      "黃芩 saved to ./result/result_each_medicine_val_csv/黃芩_1.csv\n",
      "茯苓 saved to ./result/result_each_medicine_val_csv/茯苓_1.csv\n",
      "澤瀉 saved to ./result/result_each_medicine_val_csv/澤瀉_1.csv\n",
      "附子 saved to ./result/result_each_medicine_val_csv/附子_1.csv\n",
      "甘草 saved to ./result/result_each_medicine_val_csv/甘草_1.csv\n",
      "當歸 saved to ./result/result_each_medicine_val_csv/當歸_1.csv\n",
      "白芍 saved to ./result/result_each_medicine_val_csv/白芍_1.csv\n",
      "炙甘草 saved to ./result/result_each_medicine_val_csv/炙甘草_1.csv\n"
     ]
    }
   ],
   "source": [
    "\n",
    "# Path identifier for saving results in the directory\n",
    "file_path = \"./result/result_each_medicine_val_csv\" \n",
    "\n",
    "# Exporting the result of each medicine in validation set to csv file\n",
    "for key, df in result_df_dict.items():\n",
    "\n",
    "    # Uncomment if you want to print the DataFrames on console\n",
    "    # print(f\"DataFrame for {key}:\")\n",
    "    # myutil.print_df(df)\n",
    "    myutil.df_to_csv(df, save_path=file_path, file_prefix=key)\n",
    "   \n",
    "\n"
   ]
  },
  {
   "cell_type": "code",
   "execution_count": null,
   "metadata": {},
   "outputs": [
    {
     "name": "stdout",
     "output_type": "stream",
     "text": [
      "f1_score_all_medicine_val saved to ./result/result_all_medicine_val/f1_score_all_medicine_val_2.csv\n"
     ]
    }
   ],
   "source": [
    "# Create a DataFrame to record f1 score, TP/FP/TN/FN of each medicine\n",
    "all_f1_df = pd.DataFrame([(key, val['f1-score'], val['precision'], val['recall'], \n",
    "                           val['TP'], val['FP'], val['TN'], val['FN']) for key, val in ValMedicineDictioanry.items()], \n",
    "                         columns=['medicine', 'f1-score','precision', 'recall', 'TP', 'FP', 'TN', 'FN']\n",
    "                        )\n",
    "\n",
    "file_path = \"./result/result_all_medicine_val\"\n",
    "\n",
    "# Exporting the DataFrame to csv file\n",
    "myutil.df_to_csv(all_f1_df, save_path=file_path, file_prefix='f1_score_all_medicine_val')"
   ]
  },
  {
   "cell_type": "code",
   "execution_count": null,
   "metadata": {},
   "outputs": [
    {
     "name": "stdout",
     "output_type": "stream",
     "text": [
      "ValMedicineDict saved to ./result/one_med_ValMedicineDict/ValMedicineDict_2.txt\n",
      "TrainMedicineDict saved to ./result/one_med_TrainMedicineDict/TrainMedicineDict_2.txt\n"
     ]
    }
   ],
   "source": [
    "\n",
    "# Specification string to be printed onto the resulting txt files\n",
    "# This is for recording the training specifications that produced these results\n",
    "training_specification  = \"model layer:  32-64-128-64-32 units, activation: relu, optimizer: Adam, learning rate: 0.001, epochs: 1000, batch_size: 32, num_med: all. del_med_under_thres: 0\"\n",
    "\n",
    "file_path=\"./result/one_med_ValMedicineDict\"\n",
    "\n",
    "# Exporting f1-score, TP/FP/TN/FN of the training and validation sets to text files\n",
    "myutil.dict_to_txt(ValMedicineDictioanry, save_path=file_path, \n",
    "                   file_prefix=\"ValMedicineDict\",\n",
    "                   textbox=training_specification )\n",
    "\n",
    "file_path=\"./result/one_med_TrainMedicineDict\"\n",
    "myutil.dict_to_txt(TrainMedicineDictioanry, save_path=file_path, \n",
    "                   file_prefix=\"TrainMedicineDict\",\n",
    "                   textbox=\"train set, \"+training_specification )\n"
   ]
  },
  {
   "cell_type": "code",
   "execution_count": null,
   "metadata": {},
   "outputs": [],
   "source": []
  }
 ],
 "metadata": {
  "kernelspec": {
   "display_name": "ml2",
   "language": "python",
   "name": "python3"
  },
  "language_info": {
   "codemirror_mode": {
    "name": "ipython",
    "version": 3
   },
   "file_extension": ".py",
   "mimetype": "text/x-python",
   "name": "python",
   "nbconvert_exporter": "python",
   "pygments_lexer": "ipython3",
   "version": "3.9.18"
  }
 },
 "nbformat": 4,
 "nbformat_minor": 2
}
