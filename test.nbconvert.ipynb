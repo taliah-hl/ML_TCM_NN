{
 "cells": [
  {
   "cell_type": "code",
   "execution_count": 1,
   "metadata": {
    "execution": {
     "iopub.execute_input": "2023-12-13T02:54:41.444794Z",
     "iopub.status.busy": "2023-12-13T02:54:41.438577Z",
     "iopub.status.idle": "2023-12-13T02:54:41.488072Z",
     "shell.execute_reply": "2023-12-13T02:54:41.484999Z"
    }
   },
   "outputs": [
    {
     "name": "stdout",
     "output_type": "stream",
     "text": [
      "foooo!\n",
      "n\n"
     ]
    }
   ],
   "source": [
    "print(\"foooo!\")\n",
    "print(\"n\")"
   ]
  }
 ],
 "metadata": {
  "language_info": {
   "codemirror_mode": {
    "name": "ipython",
    "version": 3
   },
   "file_extension": ".py",
   "mimetype": "text/x-python",
   "name": "python",
   "nbconvert_exporter": "python",
   "pygments_lexer": "ipython3",
   "version": "3.9.18"
  }
 },
 "nbformat": 4,
 "nbformat_minor": 2
}
